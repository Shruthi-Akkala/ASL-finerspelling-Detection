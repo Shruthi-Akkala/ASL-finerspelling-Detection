{
  "cells": [
    {
      "cell_type": "markdown",
      "source": [
        "Installing Mediapipe"
      ],
      "metadata": {
        "id": "hKiVRabeDL8n"
      }
    },
    {
      "cell_type": "code",
      "execution_count": 3,
      "metadata": {
        "colab": {
          "base_uri": "https://localhost:8080/"
        },
        "id": "LvTwA6GfvkVd",
        "outputId": "843e66e1-ed71-48e3-c66d-9a32b086761f"
      },
      "outputs": [
        {
          "output_type": "stream",
          "name": "stdout",
          "text": [
            "Collecting mediapipe\n",
            "  Downloading mediapipe-0.10.8-cp310-cp310-manylinux_2_17_x86_64.manylinux2014_x86_64.whl (34.5 MB)\n",
            "\u001b[2K     \u001b[90m━━━━━━━━━━━━━━━━━━━━━━━━━━━━━━━━━━━━━━━━\u001b[0m \u001b[32m34.5/34.5 MB\u001b[0m \u001b[31m56.8 MB/s\u001b[0m eta \u001b[36m0:00:00\u001b[0m\n",
            "\u001b[?25hRequirement already satisfied: absl-py in /usr/local/lib/python3.10/dist-packages (from mediapipe) (1.4.0)\n",
            "Requirement already satisfied: attrs>=19.1.0 in /usr/local/lib/python3.10/dist-packages (from mediapipe) (23.1.0)\n",
            "Requirement already satisfied: flatbuffers>=2.0 in /usr/local/lib/python3.10/dist-packages (from mediapipe) (23.5.26)\n",
            "Requirement already satisfied: matplotlib in /usr/local/lib/python3.10/dist-packages (from mediapipe) (3.7.1)\n",
            "Requirement already satisfied: numpy in /usr/local/lib/python3.10/dist-packages (from mediapipe) (1.23.5)\n",
            "Requirement already satisfied: opencv-contrib-python in /usr/local/lib/python3.10/dist-packages (from mediapipe) (4.8.0.76)\n",
            "Requirement already satisfied: protobuf<4,>=3.11 in /usr/local/lib/python3.10/dist-packages (from mediapipe) (3.20.3)\n",
            "Collecting sounddevice>=0.4.4 (from mediapipe)\n",
            "  Downloading sounddevice-0.4.6-py3-none-any.whl (31 kB)\n",
            "Requirement already satisfied: CFFI>=1.0 in /usr/local/lib/python3.10/dist-packages (from sounddevice>=0.4.4->mediapipe) (1.16.0)\n",
            "Requirement already satisfied: contourpy>=1.0.1 in /usr/local/lib/python3.10/dist-packages (from matplotlib->mediapipe) (1.2.0)\n",
            "Requirement already satisfied: cycler>=0.10 in /usr/local/lib/python3.10/dist-packages (from matplotlib->mediapipe) (0.12.1)\n",
            "Requirement already satisfied: fonttools>=4.22.0 in /usr/local/lib/python3.10/dist-packages (from matplotlib->mediapipe) (4.44.3)\n",
            "Requirement already satisfied: kiwisolver>=1.0.1 in /usr/local/lib/python3.10/dist-packages (from matplotlib->mediapipe) (1.4.5)\n",
            "Requirement already satisfied: packaging>=20.0 in /usr/local/lib/python3.10/dist-packages (from matplotlib->mediapipe) (23.2)\n",
            "Requirement already satisfied: pillow>=6.2.0 in /usr/local/lib/python3.10/dist-packages (from matplotlib->mediapipe) (9.4.0)\n",
            "Requirement already satisfied: pyparsing>=2.3.1 in /usr/local/lib/python3.10/dist-packages (from matplotlib->mediapipe) (3.1.1)\n",
            "Requirement already satisfied: python-dateutil>=2.7 in /usr/local/lib/python3.10/dist-packages (from matplotlib->mediapipe) (2.8.2)\n",
            "Requirement already satisfied: pycparser in /usr/local/lib/python3.10/dist-packages (from CFFI>=1.0->sounddevice>=0.4.4->mediapipe) (2.21)\n",
            "Requirement already satisfied: six>=1.5 in /usr/local/lib/python3.10/dist-packages (from python-dateutil>=2.7->matplotlib->mediapipe) (1.16.0)\n",
            "Installing collected packages: sounddevice, mediapipe\n",
            "Successfully installed mediapipe-0.10.8 sounddevice-0.4.6\n"
          ]
        }
      ],
      "source": [
        "!pip install mediapipe"
      ]
    },
    {
      "cell_type": "markdown",
      "source": [
        "Importing Dependencies"
      ],
      "metadata": {
        "id": "EwdpHn-LDJAF"
      }
    },
    {
      "cell_type": "code",
      "execution_count": 4,
      "metadata": {
        "id": "CZ5gJIYVt7rI"
      },
      "outputs": [],
      "source": [
        "import mediapipe as mp\n",
        "import numpy as np\n",
        "import matplotlib.pyplot as plt\n",
        "import time\n",
        "import os\n",
        "import cv2\n",
        "import pandas as pd\n",
        "import numpy as np\n",
        "import matplotlib.pyplot as plt\n",
        "import torch\n",
        "import torch.nn as nn\n",
        "import tensorflow as tf\n",
        "from tensorflow import keras\n",
        "\n",
        "from keras.models import Sequential\n",
        "from keras.layers import Dense\n",
        "from sklearn.model_selection import cross_val_score\n",
        "from sklearn.model_selection import KFold\n",
        "from sklearn.preprocessing import LabelEncoder\n",
        "from sklearn.pipeline import Pipeline\n",
        "from keras.utils import to_categorical\n",
        "from keras import regularizers"
      ]
    },
    {
      "cell_type": "markdown",
      "source": [
        "Mounting GDrive to access data files saved in Gdrive"
      ],
      "metadata": {
        "id": "c0_WLTgxDA5V"
      }
    },
    {
      "cell_type": "code",
      "execution_count": 5,
      "metadata": {
        "id": "v-RMdRdgvnoF",
        "colab": {
          "base_uri": "https://localhost:8080/"
        },
        "outputId": "d1e923f4-2083-4065-e9a5-e2bf9d70a1fe"
      },
      "outputs": [
        {
          "output_type": "stream",
          "name": "stdout",
          "text": [
            "Mounted at /content/drive/\n"
          ]
        }
      ],
      "source": [
        "from google.colab import drive\n",
        "drive.mount(\"/content/drive/\")"
      ]
    },
    {
      "cell_type": "code",
      "execution_count": 6,
      "metadata": {
        "colab": {
          "base_uri": "https://localhost:8080/"
        },
        "id": "ubn8Vj1c2Q4Y",
        "outputId": "3d8f9d38-1c37-4955-9339-03b1efe9dab2"
      },
      "outputs": [
        {
          "output_type": "stream",
          "name": "stdout",
          "text": [
            "/content/drive/MyDrive/Datasets/ASL\n"
          ]
        }
      ],
      "source": [
        "cd drive/MyDrive/Datasets/ASL"
      ]
    },
    {
      "cell_type": "markdown",
      "source": [
        "Loading and Preparing Train Data for FFNN"
      ],
      "metadata": {
        "id": "yTYfE-MwCyxX"
      }
    },
    {
      "cell_type": "code",
      "execution_count": 26,
      "metadata": {
        "id": "_v4XPorq2T4f",
        "colab": {
          "base_uri": "https://localhost:8080/"
        },
        "outputId": "15eeae5f-4819-4175-9654-77759a271e42"
      },
      "outputs": [
        {
          "output_type": "execute_result",
          "data": {
            "text/plain": [
              "(14284, 14284)"
            ]
          },
          "metadata": {},
          "execution_count": 26
        }
      ],
      "source": [
        "X = np.loadtxt('Megalist.txt')\n",
        "Y = np.loadtxt('Megalabel.txt',dtype = str)\n",
        "Y_data = [ord(i) - 65 for i in Y]\n",
        "X_data = np.array(X)\n",
        "eY = to_categorical(Y_data, num_classes = 26)\n",
        "indices = np.arange(X_data.shape[0])\n",
        "np.random.shuffle(indices)\n",
        "X_data = X_data[indices]\n",
        "eY = eY[indices]\n",
        "eY = np.array([eY[i] for i in range(len(eY)) if np.sum(X_data[i]**2)!=0])\n",
        "X_data = np.array([i  for i in X_data if np.sum(i**2)!=0])\n",
        "\n",
        "len(X_data),len(eY)"
      ]
    },
    {
      "cell_type": "markdown",
      "source": [
        "Loading and Preparing Validation and Test Data"
      ],
      "metadata": {
        "id": "DnrCwkLkC7L8"
      }
    },
    {
      "cell_type": "code",
      "source": [
        "vX = np.loadtxt('Valid_X_yolo.txt')\n",
        "vY = np.loadtxt('Valid_Y_yolo.txt', dtype = str)\n",
        "tX = np.loadtxt('Test_X_yolo.txt')\n",
        "tY = np.loadtxt('Test_Y_yolo.txt', dtype = str)\n",
        "vY = [ord(i) - 65 for i in vY]\n",
        "tY = [ord(i) - 65 for i in tY]\n",
        "vX = np.array(vX)\n",
        "tX = np.array(tX)"
      ],
      "metadata": {
        "id": "O4ZY_GNYyTKg"
      },
      "execution_count": 27,
      "outputs": []
    },
    {
      "cell_type": "markdown",
      "source": [
        "Defining the model architecture"
      ],
      "metadata": {
        "id": "iO4V_ansClyF"
      }
    },
    {
      "cell_type": "code",
      "execution_count": 31,
      "metadata": {
        "colab": {
          "base_uri": "https://localhost:8080/"
        },
        "id": "OOhxAgtEVvgO",
        "outputId": "f75e4ed7-60a1-406b-90cd-25b35fc915a8"
      },
      "outputs": [
        {
          "output_type": "stream",
          "name": "stdout",
          "text": [
            "Model: \"sequential_4\"\n",
            "_________________________________________________________________\n",
            " Layer (type)                Output Shape              Param #   \n",
            "=================================================================\n",
            " dense_8 (Dense)             (None, 46)                2944      \n",
            "                                                                 \n",
            " dense_9 (Dense)             (None, 26)                1222      \n",
            "                                                                 \n",
            "=================================================================\n",
            "Total params: 4166 (16.27 KB)\n",
            "Trainable params: 4166 (16.27 KB)\n",
            "Non-trainable params: 0 (0.00 Byte)\n",
            "_________________________________________________________________\n"
          ]
        }
      ],
      "source": [
        "def baseline_model():\n",
        "  model = Sequential()\n",
        "  model.add(Dense(46, input_dim=63, activation='relu', kernel_regularizer=regularizers.L1(0.01)))\n",
        "  model.add(Dense(26, activation='softmax'))\n",
        "  model.compile(loss='categorical_crossentropy', optimizer='adam', metrics=['accuracy'])\n",
        "  return model\n",
        "\n",
        "model = baseline_model()\n",
        "model.summary()"
      ]
    },
    {
      "cell_type": "markdown",
      "source": [
        "Training the model"
      ],
      "metadata": {
        "id": "SqStC78fChoB"
      }
    },
    {
      "cell_type": "code",
      "execution_count": 32,
      "metadata": {
        "colab": {
          "base_uri": "https://localhost:8080/"
        },
        "id": "mvsIoJJ-a4il",
        "outputId": "d7249d67-a6a1-4abe-d334-cd7b24b10f3a"
      },
      "outputs": [
        {
          "output_type": "stream",
          "name": "stdout",
          "text": [
            "Epoch 1/150\n",
            "335/335 [==============================] - 1s 3ms/step - loss: 4.2995 - accuracy: 0.0849 - val_loss: 3.3034 - val_accuracy: 0.0809\n",
            "Epoch 2/150\n",
            "335/335 [==============================] - 1s 2ms/step - loss: 3.2000 - accuracy: 0.1180 - val_loss: 3.1014 - val_accuracy: 0.1739\n",
            "Epoch 3/150\n",
            "335/335 [==============================] - 1s 2ms/step - loss: 2.9761 - accuracy: 0.2027 - val_loss: 2.8380 - val_accuracy: 0.2246\n",
            "Epoch 4/150\n",
            "335/335 [==============================] - 1s 2ms/step - loss: 2.7105 - accuracy: 0.2540 - val_loss: 2.5965 - val_accuracy: 0.2862\n",
            "Epoch 5/150\n",
            "335/335 [==============================] - 1s 2ms/step - loss: 2.4943 - accuracy: 0.3233 - val_loss: 2.4030 - val_accuracy: 0.3937\n",
            "Epoch 6/150\n",
            "335/335 [==============================] - 1s 2ms/step - loss: 2.3193 - accuracy: 0.4495 - val_loss: 2.2418 - val_accuracy: 0.5085\n",
            "Epoch 7/150\n",
            "335/335 [==============================] - 1s 2ms/step - loss: 2.1781 - accuracy: 0.5268 - val_loss: 2.1111 - val_accuracy: 0.5466\n",
            "Epoch 8/150\n",
            "335/335 [==============================] - 1s 2ms/step - loss: 2.0605 - accuracy: 0.5970 - val_loss: 2.0079 - val_accuracy: 0.5934\n",
            "Epoch 9/150\n",
            "335/335 [==============================] - 1s 2ms/step - loss: 1.9647 - accuracy: 0.6260 - val_loss: 1.9186 - val_accuracy: 0.6794\n",
            "Epoch 10/150\n",
            "335/335 [==============================] - 1s 2ms/step - loss: 1.8840 - accuracy: 0.6555 - val_loss: 1.8454 - val_accuracy: 0.6836\n",
            "Epoch 11/150\n",
            "335/335 [==============================] - 1s 2ms/step - loss: 1.8175 - accuracy: 0.6846 - val_loss: 1.7896 - val_accuracy: 0.7040\n",
            "Epoch 12/150\n",
            "335/335 [==============================] - 1s 3ms/step - loss: 1.7621 - accuracy: 0.7048 - val_loss: 1.7275 - val_accuracy: 0.6970\n",
            "Epoch 13/150\n",
            "335/335 [==============================] - 1s 2ms/step - loss: 1.7151 - accuracy: 0.7172 - val_loss: 1.6817 - val_accuracy: 0.7323\n",
            "Epoch 14/150\n",
            "335/335 [==============================] - 1s 3ms/step - loss: 1.6721 - accuracy: 0.7310 - val_loss: 1.6469 - val_accuracy: 0.7502\n",
            "Epoch 15/150\n",
            "335/335 [==============================] - 1s 2ms/step - loss: 1.6357 - accuracy: 0.7528 - val_loss: 1.6105 - val_accuracy: 0.7180\n",
            "Epoch 16/150\n",
            "335/335 [==============================] - 1s 2ms/step - loss: 1.6024 - accuracy: 0.7565 - val_loss: 1.5761 - val_accuracy: 0.7617\n",
            "Epoch 17/150\n",
            "335/335 [==============================] - 1s 2ms/step - loss: 1.5735 - accuracy: 0.7637 - val_loss: 1.5564 - val_accuracy: 0.7432\n",
            "Epoch 18/150\n",
            "335/335 [==============================] - 1s 2ms/step - loss: 1.5463 - accuracy: 0.7749 - val_loss: 1.5236 - val_accuracy: 0.7905\n",
            "Epoch 19/150\n",
            "335/335 [==============================] - 1s 2ms/step - loss: 1.5199 - accuracy: 0.7824 - val_loss: 1.4943 - val_accuracy: 0.7981\n",
            "Epoch 20/150\n",
            "335/335 [==============================] - 1s 2ms/step - loss: 1.4945 - accuracy: 0.7913 - val_loss: 1.4737 - val_accuracy: 0.8216\n",
            "Epoch 21/150\n",
            "335/335 [==============================] - 1s 2ms/step - loss: 1.4701 - accuracy: 0.8037 - val_loss: 1.4550 - val_accuracy: 0.7922\n",
            "Epoch 22/150\n",
            "335/335 [==============================] - 1s 2ms/step - loss: 1.4497 - accuracy: 0.8058 - val_loss: 1.4323 - val_accuracy: 0.8029\n",
            "Epoch 23/150\n",
            "335/335 [==============================] - 1s 2ms/step - loss: 1.4308 - accuracy: 0.8092 - val_loss: 1.4192 - val_accuracy: 0.8244\n",
            "Epoch 24/150\n",
            "335/335 [==============================] - 1s 3ms/step - loss: 1.4098 - accuracy: 0.8173 - val_loss: 1.3985 - val_accuracy: 0.7931\n",
            "Epoch 25/150\n",
            "335/335 [==============================] - 1s 2ms/step - loss: 1.3916 - accuracy: 0.8208 - val_loss: 1.3768 - val_accuracy: 0.8292\n",
            "Epoch 26/150\n",
            "335/335 [==============================] - 1s 2ms/step - loss: 1.3748 - accuracy: 0.8229 - val_loss: 1.3591 - val_accuracy: 0.8311\n",
            "Epoch 27/150\n",
            "335/335 [==============================] - 1s 2ms/step - loss: 1.3581 - accuracy: 0.8289 - val_loss: 1.3378 - val_accuracy: 0.8272\n",
            "Epoch 28/150\n",
            "335/335 [==============================] - 1s 2ms/step - loss: 1.3424 - accuracy: 0.8286 - val_loss: 1.3330 - val_accuracy: 0.8328\n",
            "Epoch 29/150\n",
            "335/335 [==============================] - 1s 2ms/step - loss: 1.3289 - accuracy: 0.8330 - val_loss: 1.3091 - val_accuracy: 0.8331\n",
            "Epoch 30/150\n",
            "335/335 [==============================] - 1s 2ms/step - loss: 1.3131 - accuracy: 0.8372 - val_loss: 1.2998 - val_accuracy: 0.8468\n",
            "Epoch 31/150\n",
            "335/335 [==============================] - 1s 2ms/step - loss: 1.2995 - accuracy: 0.8421 - val_loss: 1.2855 - val_accuracy: 0.8429\n",
            "Epoch 32/150\n",
            "335/335 [==============================] - 1s 2ms/step - loss: 1.2855 - accuracy: 0.8457 - val_loss: 1.2710 - val_accuracy: 0.8236\n",
            "Epoch 33/150\n",
            "335/335 [==============================] - 1s 2ms/step - loss: 1.2755 - accuracy: 0.8439 - val_loss: 1.2609 - val_accuracy: 0.8311\n",
            "Epoch 34/150\n",
            "335/335 [==============================] - 1s 2ms/step - loss: 1.2604 - accuracy: 0.8491 - val_loss: 1.2634 - val_accuracy: 0.8572\n",
            "Epoch 35/150\n",
            "335/335 [==============================] - 1s 2ms/step - loss: 1.2519 - accuracy: 0.8512 - val_loss: 1.2380 - val_accuracy: 0.8597\n",
            "Epoch 36/150\n",
            "335/335 [==============================] - 1s 2ms/step - loss: 1.2389 - accuracy: 0.8523 - val_loss: 1.2267 - val_accuracy: 0.8491\n",
            "Epoch 37/150\n",
            "335/335 [==============================] - 1s 2ms/step - loss: 1.2308 - accuracy: 0.8524 - val_loss: 1.2189 - val_accuracy: 0.8723\n",
            "Epoch 38/150\n",
            "335/335 [==============================] - 1s 2ms/step - loss: 1.2194 - accuracy: 0.8569 - val_loss: 1.2174 - val_accuracy: 0.8510\n",
            "Epoch 39/150\n",
            "335/335 [==============================] - 1s 2ms/step - loss: 1.2115 - accuracy: 0.8588 - val_loss: 1.1959 - val_accuracy: 0.8530\n",
            "Epoch 40/150\n",
            "335/335 [==============================] - 1s 2ms/step - loss: 1.1997 - accuracy: 0.8598 - val_loss: 1.1883 - val_accuracy: 0.8619\n",
            "Epoch 41/150\n",
            "335/335 [==============================] - 1s 2ms/step - loss: 1.1907 - accuracy: 0.8609 - val_loss: 1.1772 - val_accuracy: 0.8566\n",
            "Epoch 42/150\n",
            "335/335 [==============================] - 1s 2ms/step - loss: 1.1814 - accuracy: 0.8633 - val_loss: 1.1710 - val_accuracy: 0.8645\n",
            "Epoch 43/150\n",
            "335/335 [==============================] - 1s 2ms/step - loss: 1.1764 - accuracy: 0.8615 - val_loss: 1.1639 - val_accuracy: 0.8605\n",
            "Epoch 44/150\n",
            "335/335 [==============================] - 1s 2ms/step - loss: 1.1665 - accuracy: 0.8643 - val_loss: 1.1533 - val_accuracy: 0.8538\n",
            "Epoch 45/150\n",
            "335/335 [==============================] - 1s 2ms/step - loss: 1.1577 - accuracy: 0.8619 - val_loss: 1.1425 - val_accuracy: 0.8622\n",
            "Epoch 46/150\n",
            "335/335 [==============================] - 1s 2ms/step - loss: 1.1507 - accuracy: 0.8647 - val_loss: 1.1402 - val_accuracy: 0.8687\n",
            "Epoch 47/150\n",
            "335/335 [==============================] - 1s 2ms/step - loss: 1.1400 - accuracy: 0.8703 - val_loss: 1.1280 - val_accuracy: 0.8675\n",
            "Epoch 48/150\n",
            "335/335 [==============================] - 1s 2ms/step - loss: 1.1356 - accuracy: 0.8675 - val_loss: 1.1219 - val_accuracy: 0.8768\n",
            "Epoch 49/150\n",
            "335/335 [==============================] - 1s 2ms/step - loss: 1.1276 - accuracy: 0.8687 - val_loss: 1.1122 - val_accuracy: 0.8695\n",
            "Epoch 50/150\n",
            "335/335 [==============================] - 1s 2ms/step - loss: 1.1187 - accuracy: 0.8699 - val_loss: 1.1089 - val_accuracy: 0.8729\n",
            "Epoch 51/150\n",
            "335/335 [==============================] - 1s 2ms/step - loss: 1.1113 - accuracy: 0.8736 - val_loss: 1.0976 - val_accuracy: 0.8757\n",
            "Epoch 52/150\n",
            "335/335 [==============================] - 1s 2ms/step - loss: 1.1053 - accuracy: 0.8711 - val_loss: 1.0901 - val_accuracy: 0.8729\n",
            "Epoch 53/150\n",
            "335/335 [==============================] - 1s 2ms/step - loss: 1.0967 - accuracy: 0.8726 - val_loss: 1.0907 - val_accuracy: 0.8591\n",
            "Epoch 54/150\n",
            "335/335 [==============================] - 1s 2ms/step - loss: 1.0927 - accuracy: 0.8745 - val_loss: 1.0778 - val_accuracy: 0.8731\n",
            "Epoch 55/150\n",
            "335/335 [==============================] - 1s 2ms/step - loss: 1.0854 - accuracy: 0.8719 - val_loss: 1.0683 - val_accuracy: 0.8706\n",
            "Epoch 56/150\n",
            "335/335 [==============================] - 1s 2ms/step - loss: 1.0777 - accuracy: 0.8796 - val_loss: 1.0628 - val_accuracy: 0.8737\n",
            "Epoch 57/150\n",
            "335/335 [==============================] - 1s 2ms/step - loss: 1.0711 - accuracy: 0.8753 - val_loss: 1.0715 - val_accuracy: 0.8586\n",
            "Epoch 58/150\n",
            "335/335 [==============================] - 1s 2ms/step - loss: 1.0652 - accuracy: 0.8761 - val_loss: 1.0507 - val_accuracy: 0.8771\n",
            "Epoch 59/150\n",
            "335/335 [==============================] - 1s 3ms/step - loss: 1.0593 - accuracy: 0.8797 - val_loss: 1.0594 - val_accuracy: 0.8762\n",
            "Epoch 60/150\n",
            "335/335 [==============================] - 1s 2ms/step - loss: 1.0523 - accuracy: 0.8773 - val_loss: 1.0412 - val_accuracy: 0.8785\n",
            "Epoch 61/150\n",
            "335/335 [==============================] - 1s 2ms/step - loss: 1.0484 - accuracy: 0.8777 - val_loss: 1.0413 - val_accuracy: 0.8681\n",
            "Epoch 62/150\n",
            "335/335 [==============================] - 1s 2ms/step - loss: 1.0413 - accuracy: 0.8792 - val_loss: 1.0277 - val_accuracy: 0.8801\n",
            "Epoch 63/150\n",
            "335/335 [==============================] - 1s 2ms/step - loss: 1.0354 - accuracy: 0.8796 - val_loss: 1.0242 - val_accuracy: 0.8835\n",
            "Epoch 64/150\n",
            "335/335 [==============================] - 1s 2ms/step - loss: 1.0293 - accuracy: 0.8815 - val_loss: 1.0176 - val_accuracy: 0.8720\n",
            "Epoch 65/150\n",
            "335/335 [==============================] - 1s 2ms/step - loss: 1.0249 - accuracy: 0.8806 - val_loss: 1.0225 - val_accuracy: 0.8874\n",
            "Epoch 66/150\n",
            "335/335 [==============================] - 1s 2ms/step - loss: 1.0213 - accuracy: 0.8821 - val_loss: 1.0074 - val_accuracy: 0.8894\n",
            "Epoch 67/150\n",
            "335/335 [==============================] - 1s 2ms/step - loss: 1.0151 - accuracy: 0.8807 - val_loss: 0.9993 - val_accuracy: 0.8902\n",
            "Epoch 68/150\n",
            "335/335 [==============================] - 1s 2ms/step - loss: 1.0069 - accuracy: 0.8869 - val_loss: 1.0017 - val_accuracy: 0.8771\n",
            "Epoch 69/150\n",
            "335/335 [==============================] - 1s 3ms/step - loss: 1.0053 - accuracy: 0.8829 - val_loss: 0.9997 - val_accuracy: 0.8776\n",
            "Epoch 70/150\n",
            "335/335 [==============================] - 1s 2ms/step - loss: 1.0008 - accuracy: 0.8832 - val_loss: 0.9913 - val_accuracy: 0.8955\n",
            "Epoch 71/150\n",
            "335/335 [==============================] - 1s 2ms/step - loss: 0.9936 - accuracy: 0.8869 - val_loss: 0.9834 - val_accuracy: 0.8773\n",
            "Epoch 72/150\n",
            "335/335 [==============================] - 1s 2ms/step - loss: 0.9898 - accuracy: 0.8864 - val_loss: 0.9732 - val_accuracy: 0.8810\n",
            "Epoch 73/150\n",
            "335/335 [==============================] - 1s 2ms/step - loss: 0.9863 - accuracy: 0.8850 - val_loss: 0.9730 - val_accuracy: 0.8983\n",
            "Epoch 74/150\n",
            "335/335 [==============================] - 1s 2ms/step - loss: 0.9808 - accuracy: 0.8875 - val_loss: 0.9690 - val_accuracy: 0.9000\n",
            "Epoch 75/150\n",
            "335/335 [==============================] - 1s 2ms/step - loss: 0.9759 - accuracy: 0.8894 - val_loss: 0.9621 - val_accuracy: 0.8815\n",
            "Epoch 76/150\n",
            "335/335 [==============================] - 1s 2ms/step - loss: 0.9695 - accuracy: 0.8911 - val_loss: 0.9575 - val_accuracy: 0.8757\n",
            "Epoch 77/150\n",
            "335/335 [==============================] - 1s 2ms/step - loss: 0.9671 - accuracy: 0.8882 - val_loss: 0.9623 - val_accuracy: 0.8866\n",
            "Epoch 78/150\n",
            "335/335 [==============================] - 1s 2ms/step - loss: 0.9595 - accuracy: 0.8913 - val_loss: 0.9495 - val_accuracy: 0.8919\n",
            "Epoch 79/150\n",
            "335/335 [==============================] - 1s 2ms/step - loss: 0.9549 - accuracy: 0.8905 - val_loss: 0.9498 - val_accuracy: 0.8930\n",
            "Epoch 80/150\n",
            "335/335 [==============================] - 1s 2ms/step - loss: 0.9532 - accuracy: 0.8922 - val_loss: 0.9402 - val_accuracy: 0.8827\n",
            "Epoch 81/150\n",
            "335/335 [==============================] - 1s 2ms/step - loss: 0.9483 - accuracy: 0.8915 - val_loss: 0.9337 - val_accuracy: 0.8919\n",
            "Epoch 82/150\n",
            "335/335 [==============================] - 1s 2ms/step - loss: 0.9429 - accuracy: 0.8936 - val_loss: 0.9397 - val_accuracy: 0.8737\n",
            "Epoch 83/150\n",
            "335/335 [==============================] - 1s 2ms/step - loss: 0.9399 - accuracy: 0.8930 - val_loss: 0.9311 - val_accuracy: 0.8871\n",
            "Epoch 84/150\n",
            "335/335 [==============================] - 1s 2ms/step - loss: 0.9355 - accuracy: 0.8951 - val_loss: 0.9269 - val_accuracy: 0.9056\n",
            "Epoch 85/150\n",
            "335/335 [==============================] - 1s 2ms/step - loss: 0.9329 - accuracy: 0.8939 - val_loss: 0.9266 - val_accuracy: 0.8947\n",
            "Epoch 86/150\n",
            "335/335 [==============================] - 1s 2ms/step - loss: 0.9293 - accuracy: 0.8925 - val_loss: 0.9180 - val_accuracy: 0.8815\n",
            "Epoch 87/150\n",
            "335/335 [==============================] - 1s 2ms/step - loss: 0.9239 - accuracy: 0.8957 - val_loss: 0.9162 - val_accuracy: 0.9003\n",
            "Epoch 88/150\n",
            "335/335 [==============================] - 1s 2ms/step - loss: 0.9214 - accuracy: 0.8977 - val_loss: 0.9244 - val_accuracy: 0.8874\n",
            "Epoch 89/150\n",
            "335/335 [==============================] - 1s 2ms/step - loss: 0.9175 - accuracy: 0.8971 - val_loss: 0.9033 - val_accuracy: 0.8936\n",
            "Epoch 90/150\n",
            "335/335 [==============================] - 1s 2ms/step - loss: 0.9121 - accuracy: 0.8942 - val_loss: 0.9145 - val_accuracy: 0.8757\n",
            "Epoch 91/150\n",
            "335/335 [==============================] - 1s 2ms/step - loss: 0.9110 - accuracy: 0.8967 - val_loss: 0.8976 - val_accuracy: 0.9000\n",
            "Epoch 92/150\n",
            "335/335 [==============================] - 1s 3ms/step - loss: 0.9073 - accuracy: 0.8982 - val_loss: 0.8937 - val_accuracy: 0.8953\n",
            "Epoch 93/150\n",
            "335/335 [==============================] - 1s 2ms/step - loss: 0.9027 - accuracy: 0.9011 - val_loss: 0.8938 - val_accuracy: 0.8843\n",
            "Epoch 94/150\n",
            "335/335 [==============================] - 1s 2ms/step - loss: 0.8978 - accuracy: 0.8995 - val_loss: 0.8969 - val_accuracy: 0.8955\n",
            "Epoch 95/150\n",
            "335/335 [==============================] - 1s 2ms/step - loss: 0.8965 - accuracy: 0.9008 - val_loss: 0.8934 - val_accuracy: 0.8925\n",
            "Epoch 96/150\n",
            "335/335 [==============================] - 1s 2ms/step - loss: 0.8937 - accuracy: 0.8995 - val_loss: 0.8793 - val_accuracy: 0.8925\n",
            "Epoch 97/150\n",
            "335/335 [==============================] - 1s 2ms/step - loss: 0.8895 - accuracy: 0.9003 - val_loss: 0.8772 - val_accuracy: 0.9037\n",
            "Epoch 98/150\n",
            "335/335 [==============================] - 1s 2ms/step - loss: 0.8886 - accuracy: 0.9001 - val_loss: 0.8836 - val_accuracy: 0.8869\n",
            "Epoch 99/150\n",
            "335/335 [==============================] - 1s 2ms/step - loss: 0.8828 - accuracy: 0.9019 - val_loss: 0.8779 - val_accuracy: 0.8883\n",
            "Epoch 100/150\n",
            "335/335 [==============================] - 1s 2ms/step - loss: 0.8774 - accuracy: 0.9039 - val_loss: 0.8708 - val_accuracy: 0.9073\n",
            "Epoch 101/150\n",
            "335/335 [==============================] - 1s 2ms/step - loss: 0.8747 - accuracy: 0.9056 - val_loss: 0.8814 - val_accuracy: 0.8894\n",
            "Epoch 102/150\n",
            "335/335 [==============================] - 1s 2ms/step - loss: 0.8742 - accuracy: 0.9008 - val_loss: 0.8622 - val_accuracy: 0.8958\n",
            "Epoch 103/150\n",
            "335/335 [==============================] - 1s 2ms/step - loss: 0.8717 - accuracy: 0.9032 - val_loss: 0.8647 - val_accuracy: 0.8983\n",
            "Epoch 104/150\n",
            "335/335 [==============================] - 1s 2ms/step - loss: 0.8668 - accuracy: 0.9055 - val_loss: 0.8688 - val_accuracy: 0.9084\n",
            "Epoch 105/150\n",
            "335/335 [==============================] - 1s 2ms/step - loss: 0.8645 - accuracy: 0.9052 - val_loss: 0.8580 - val_accuracy: 0.8989\n",
            "Epoch 106/150\n",
            "335/335 [==============================] - 1s 2ms/step - loss: 0.8620 - accuracy: 0.9069 - val_loss: 0.8511 - val_accuracy: 0.9025\n",
            "Epoch 107/150\n",
            "335/335 [==============================] - 1s 2ms/step - loss: 0.8579 - accuracy: 0.9045 - val_loss: 0.8526 - val_accuracy: 0.9053\n",
            "Epoch 108/150\n",
            "335/335 [==============================] - 1s 2ms/step - loss: 0.8551 - accuracy: 0.9057 - val_loss: 0.8510 - val_accuracy: 0.8964\n",
            "Epoch 109/150\n",
            "335/335 [==============================] - 1s 2ms/step - loss: 0.8508 - accuracy: 0.9074 - val_loss: 0.8379 - val_accuracy: 0.9121\n",
            "Epoch 110/150\n",
            "335/335 [==============================] - 1s 2ms/step - loss: 0.8471 - accuracy: 0.9063 - val_loss: 0.8442 - val_accuracy: 0.8894\n",
            "Epoch 111/150\n",
            "335/335 [==============================] - 1s 2ms/step - loss: 0.8453 - accuracy: 0.9098 - val_loss: 0.8398 - val_accuracy: 0.9039\n",
            "Epoch 112/150\n",
            "335/335 [==============================] - 1s 2ms/step - loss: 0.8437 - accuracy: 0.9086 - val_loss: 0.8390 - val_accuracy: 0.9031\n",
            "Epoch 113/150\n",
            "335/335 [==============================] - 1s 2ms/step - loss: 0.8412 - accuracy: 0.9084 - val_loss: 0.8410 - val_accuracy: 0.8964\n",
            "Epoch 114/150\n",
            "335/335 [==============================] - 1s 2ms/step - loss: 0.8358 - accuracy: 0.9096 - val_loss: 0.8324 - val_accuracy: 0.9037\n",
            "Epoch 115/150\n",
            "335/335 [==============================] - 1s 2ms/step - loss: 0.8375 - accuracy: 0.9101 - val_loss: 0.8226 - val_accuracy: 0.9146\n",
            "Epoch 116/150\n",
            "335/335 [==============================] - 1s 2ms/step - loss: 0.8314 - accuracy: 0.9096 - val_loss: 0.8237 - val_accuracy: 0.9009\n",
            "Epoch 117/150\n",
            "335/335 [==============================] - 1s 2ms/step - loss: 0.8287 - accuracy: 0.9109 - val_loss: 0.8240 - val_accuracy: 0.9009\n",
            "Epoch 118/150\n",
            "335/335 [==============================] - 1s 2ms/step - loss: 0.8263 - accuracy: 0.9112 - val_loss: 0.8217 - val_accuracy: 0.9109\n",
            "Epoch 119/150\n",
            "335/335 [==============================] - 1s 2ms/step - loss: 0.8236 - accuracy: 0.9108 - val_loss: 0.8177 - val_accuracy: 0.9025\n",
            "Epoch 120/150\n",
            "335/335 [==============================] - 1s 2ms/step - loss: 0.8197 - accuracy: 0.9131 - val_loss: 0.8190 - val_accuracy: 0.9104\n",
            "Epoch 121/150\n",
            "335/335 [==============================] - 1s 2ms/step - loss: 0.8194 - accuracy: 0.9117 - val_loss: 0.8264 - val_accuracy: 0.9079\n",
            "Epoch 122/150\n",
            "335/335 [==============================] - 1s 2ms/step - loss: 0.8166 - accuracy: 0.9142 - val_loss: 0.8169 - val_accuracy: 0.9146\n",
            "Epoch 123/150\n",
            "335/335 [==============================] - 1s 2ms/step - loss: 0.8148 - accuracy: 0.9126 - val_loss: 0.8026 - val_accuracy: 0.9157\n",
            "Epoch 124/150\n",
            "335/335 [==============================] - 1s 2ms/step - loss: 0.8098 - accuracy: 0.9143 - val_loss: 0.8178 - val_accuracy: 0.9104\n",
            "Epoch 125/150\n",
            "335/335 [==============================] - 1s 2ms/step - loss: 0.8084 - accuracy: 0.9139 - val_loss: 0.7993 - val_accuracy: 0.9168\n",
            "Epoch 126/150\n",
            "335/335 [==============================] - 1s 2ms/step - loss: 0.8071 - accuracy: 0.9151 - val_loss: 0.7938 - val_accuracy: 0.9115\n",
            "Epoch 127/150\n",
            "335/335 [==============================] - 1s 2ms/step - loss: 0.8032 - accuracy: 0.9167 - val_loss: 0.7967 - val_accuracy: 0.9129\n",
            "Epoch 128/150\n",
            "335/335 [==============================] - 1s 2ms/step - loss: 0.8002 - accuracy: 0.9163 - val_loss: 0.8018 - val_accuracy: 0.9081\n",
            "Epoch 129/150\n",
            "335/335 [==============================] - 1s 2ms/step - loss: 0.7995 - accuracy: 0.9174 - val_loss: 0.8010 - val_accuracy: 0.9031\n",
            "Epoch 130/150\n",
            "335/335 [==============================] - 1s 2ms/step - loss: 0.7973 - accuracy: 0.9147 - val_loss: 0.7886 - val_accuracy: 0.9174\n",
            "Epoch 131/150\n",
            "335/335 [==============================] - 1s 2ms/step - loss: 0.7937 - accuracy: 0.9174 - val_loss: 0.7871 - val_accuracy: 0.9084\n",
            "Epoch 132/150\n",
            "335/335 [==============================] - 1s 2ms/step - loss: 0.7912 - accuracy: 0.9160 - val_loss: 0.7814 - val_accuracy: 0.9059\n",
            "Epoch 133/150\n",
            "335/335 [==============================] - 1s 2ms/step - loss: 0.7903 - accuracy: 0.9163 - val_loss: 0.7929 - val_accuracy: 0.9076\n",
            "Epoch 134/150\n",
            "335/335 [==============================] - 1s 3ms/step - loss: 0.7861 - accuracy: 0.9181 - val_loss: 0.7818 - val_accuracy: 0.9177\n",
            "Epoch 135/150\n",
            "335/335 [==============================] - 1s 2ms/step - loss: 0.7852 - accuracy: 0.9189 - val_loss: 0.7920 - val_accuracy: 0.9157\n",
            "Epoch 136/150\n",
            "335/335 [==============================] - 1s 2ms/step - loss: 0.7865 - accuracy: 0.9170 - val_loss: 0.7826 - val_accuracy: 0.9171\n",
            "Epoch 137/150\n",
            "335/335 [==============================] - 1s 3ms/step - loss: 0.7811 - accuracy: 0.9198 - val_loss: 0.7767 - val_accuracy: 0.9160\n",
            "Epoch 138/150\n",
            "335/335 [==============================] - 1s 3ms/step - loss: 0.7779 - accuracy: 0.9210 - val_loss: 0.7752 - val_accuracy: 0.9104\n",
            "Epoch 139/150\n",
            "335/335 [==============================] - 1s 2ms/step - loss: 0.7758 - accuracy: 0.9235 - val_loss: 0.7679 - val_accuracy: 0.9174\n",
            "Epoch 140/150\n",
            "335/335 [==============================] - 1s 2ms/step - loss: 0.7732 - accuracy: 0.9197 - val_loss: 0.7712 - val_accuracy: 0.9196\n",
            "Epoch 141/150\n",
            "335/335 [==============================] - 1s 2ms/step - loss: 0.7706 - accuracy: 0.9219 - val_loss: 0.7717 - val_accuracy: 0.9182\n",
            "Epoch 142/150\n",
            "335/335 [==============================] - 1s 2ms/step - loss: 0.7690 - accuracy: 0.9213 - val_loss: 0.7624 - val_accuracy: 0.9160\n",
            "Epoch 143/150\n",
            "335/335 [==============================] - 1s 3ms/step - loss: 0.7695 - accuracy: 0.9212 - val_loss: 0.7686 - val_accuracy: 0.9199\n",
            "Epoch 144/150\n",
            "335/335 [==============================] - 1s 2ms/step - loss: 0.7666 - accuracy: 0.9185 - val_loss: 0.7642 - val_accuracy: 0.9009\n",
            "Epoch 145/150\n",
            "335/335 [==============================] - 1s 2ms/step - loss: 0.7620 - accuracy: 0.9225 - val_loss: 0.7580 - val_accuracy: 0.9104\n",
            "Epoch 146/150\n",
            "335/335 [==============================] - 1s 2ms/step - loss: 0.7609 - accuracy: 0.9239 - val_loss: 0.7547 - val_accuracy: 0.9213\n",
            "Epoch 147/150\n",
            "335/335 [==============================] - 1s 2ms/step - loss: 0.7589 - accuracy: 0.9250 - val_loss: 0.7570 - val_accuracy: 0.9104\n",
            "Epoch 148/150\n",
            "335/335 [==============================] - 1s 2ms/step - loss: 0.7573 - accuracy: 0.9220 - val_loss: 0.7552 - val_accuracy: 0.9233\n",
            "Epoch 149/150\n",
            "335/335 [==============================] - 1s 2ms/step - loss: 0.7552 - accuracy: 0.9241 - val_loss: 0.7527 - val_accuracy: 0.9252\n",
            "Epoch 150/150\n",
            "335/335 [==============================] - 1s 2ms/step - loss: 0.7535 - accuracy: 0.9247 - val_loss: 0.7423 - val_accuracy: 0.9213\n"
          ]
        }
      ],
      "source": [
        "history = model.fit(X_data, eY, epochs=150, validation_split = 0.25 , verbose = 1)"
      ]
    },
    {
      "cell_type": "code",
      "execution_count": 40,
      "metadata": {
        "colab": {
          "base_uri": "https://localhost:8080/",
          "height": 944
        },
        "id": "SvPwVa7XehUd",
        "outputId": "05fe3783-2870-4e1e-c93f-e216a9bd61b0"
      },
      "outputs": [
        {
          "output_type": "display_data",
          "data": {
            "text/plain": [
              "<Figure size 640x480 with 1 Axes>"
            ],
            "image/png": "[encoded data removed]"
          },
          "metadata": {}
        },
        {
          "output_type": "execute_result",
          "data": {
            "text/plain": [
              "<matplotlib.legend.Legend at 0x7a9ad0e760b0>"
            ]
          },
          "metadata": {},
          "execution_count": 40
        },
        {
          "output_type": "display_data",
          "data": {
            "text/plain": [
              "<Figure size 640x480 with 1 Axes>"
            ],
            "image/png": "[encoded data removed]"
          },
          "metadata": {}
        }
      ],
      "source": [
        "plt.title('Accuracy')\n",
        "plt.xlabel('Epochs')\n",
        "plt.ylabel('Accuracy')\n",
        "plt.plot(history.history['accuracy'])\n",
        "plt.plot(history.history['val_accuracy'])\n",
        "plt.legend(['train','valid'])\n",
        "plt.show()\n",
        "plt.title('Loss')\n",
        "plt.xlabel('Epochs')\n",
        "plt.ylabel('Loss')\n",
        "plt.plot(history.history['loss'])\n",
        "plt.plot(history.history['val_loss'])\n",
        "plt.legend(['train','valid'])"
      ]
    },
    {
      "cell_type": "markdown",
      "source": [
        "Saving Model Weights"
      ],
      "metadata": {
        "id": "piRDp4WRCLOP"
      }
    },
    {
      "cell_type": "code",
      "source": [
        "model.save_weights('wcdata_2layers.h5')"
      ],
      "metadata": {
        "id": "6js74UbZCGOi"
      },
      "execution_count": null,
      "outputs": []
    }
  ],
  "metadata": {
    "colab": {
      "provenance": []
    },
    "kernelspec": {
      "display_name": "Python 3",
      "name": "python3"
    },
    "language_info": {
      "name": "python"
    }
  },
  "nbformat": 4,
  "nbformat_minor": 0
}